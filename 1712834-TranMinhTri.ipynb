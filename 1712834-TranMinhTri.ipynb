{
 "cells": [
  {
   "cell_type": "markdown",
   "metadata": {},
   "source": [
    "Lớp **Lập trình cho Khoa học dữ liệu - 17_21**  \n",
    "Học kì II, 2019 - 2020  "
   ]
  },
  {
   "cell_type": "markdown",
   "metadata": {},
   "source": [
    "<hr>\n",
    "<br>\n",
    "<center><b><font size=\"10\">ĐỒ ÁN CUỐI KÌ</font></b></center>\n",
    "<br>\n",
    "<center>\n",
    "    <font size=\"4\"><b>Sinh viên thực hiện:</b></font>\n",
    "    <br> Trần Minh Trí - 1712834<br>\n",
    "</center>\n",
    "<hr>"
   ]
  },
  {
   "cell_type": "markdown",
   "metadata": {},
   "source": [
    "# I. Chủ đề quan tâm"
   ]
  },
  {
   "cell_type": "markdown",
   "metadata": {},
   "source": [
    "<font size=\"4.5\">  Tại sao Mỹ, một đất nước phát triển với nền tảng khoa học và cơ sở hạ tầng y tế tiên tiến hàng đầu thế giới lại đứng top 1 về số ca nhiễm và tử vong bởi **covid 19**? </font>"
   ]
  },
  {
   "cell_type": "markdown",
   "metadata": {},
   "source": [
    "## 1. Một số thông tin về tình hình ở Mỹ trước khi dịch bùng phát "
   ]
  },
  {
   "cell_type": "markdown",
   "metadata": {},
   "source": [
    "Ca nhiễm covid 19 đầu tiên được phát hiện vào ngày **21/1**\n",
    "\n",
    "Tổng thống Donald Trump ban bố tình trạng khẩn cấp quốc gia về covid 19 vào ngày **13/3**."
   ]
  },
  {
   "cell_type": "markdown",
   "metadata": {},
   "source": [
    "Theo [The Washington Post](https://www.washingtonpost.com/national-security/2020/04/04/coronavirus-government-dysfunction/?arc404=true): \n",
    "- Các thông tin cơ bản về virus corona không được thông báo đến Trump bởi các quan chức y tế cho đến 18/1. Cùng lúc đó, Trump đang đấu tranh trước các cáo buộc cưỡng chế chính trị đối với Ukraine. \n",
    "\n",
    "- Alex Azar, U.S. Serectary of Health and Human Services, kiềm chế không gây áp lực với tổng thống và thay vào đó, ông bảo Trump rằng \"tình hình hiện tại đang được giám sát và đánh giá\""
   ]
  },
  {
   "cell_type": "markdown",
   "metadata": {},
   "source": [
    "Theo [The New York Times](https://www.nytimes.com/2020/04/11/us/politics/coronavirus-trump-response.html): \n",
    " - Những phản ứng với virus corona của Trump trong khoảng thời gian bị cáo buộc đã bị làm mờ bởi những nghi ngờ và khinh bỉ. Đối với ông, nhiều chuyên gia và quan chức có năng lực thuộc phe đối lập. \n",
    " - Ông còn gọi dịch bệnh này là một \"trò bịp\" của phe Dân Chủ. Speaker of the House Nancy Pelosi ngược lại gọi phản hồi của chính quyền Trump trước cuộc khủng hoảng là mờ mịt và hỗn loạn"
   ]
  },
  {
   "cell_type": "markdown",
   "metadata": {},
   "source": [
    "## 2. Các câu hỏi cần trả lời:"
   ]
  },
  {
   "cell_type": "markdown",
   "metadata": {},
   "source": [
    " 1. Sự bùng phát dịch bệnh ở Mỹ xảy ra như thế nào? (Mức độ nhiễm qua từng tháng)\n",
    " 2. Liệu bất ổn chính trị ở Mỹ có ảnh hưởng đến sự bùng phát dịch bệnh?\n",
    " 3. Đưa ra dẫn chứng về bất ổn chính trị ở Mỹ ảnh hưởng đến sự lây lan của dịch bệnh"
   ]
  },
  {
   "cell_type": "markdown",
   "metadata": {},
   "source": [
    "# II. Thu thập dữ liệu"
   ]
  },
  {
   "cell_type": "markdown",
   "metadata": {},
   "source": [
    "Để có một bộ dữ liệu liên quan đến covid 19, ta tìm trên kaggle và tìm được [bộ dữ liệu sau](https://www.kaggle.com/sudalairajkumar/novel-corona-virus-2019-dataset) (file \"covid_19_data.csv\")"
   ]
  },
  {
   "cell_type": "markdown",
   "metadata": {},
   "source": [
    "Ta thu thập thêm dữ liệu về các bang chịu ảnh hưởng lớn về chính trị 2 đảng phái lớn ở Mỹ và thu thập chính sách về việc \"Bắt buộc đeo khẩu trang khi ra nơi công cộng\" của các bang để xét xem có sự khác biệt. \n",
    "\n",
    "Dữ liệu thu được: [Chính kiến các bang](https://en.wikipedia.org/wiki/2016_United_States_presidential_election) và [Ngày bắt đầu luật bắt buộc đeo khẩu trang các bang](https://edition.cnn.com/2020/06/19/us/states-face-mask-coronavirus-trnd/index.html)\n",
    "\n",
    "Ta ghi chép dữ liệu này vào file \"US_Additional_Info.csv\""
   ]
  },
  {
   "cell_type": "markdown",
   "metadata": {},
   "source": [
    "# III. Khám phá dữ liệu"
   ]
  },
  {
   "cell_type": "code",
   "execution_count": 1,
   "metadata": {},
   "outputs": [],
   "source": [
    "%matplotlib inline\n",
    "import matplotlib.pyplot as plt\n",
    "import pandas as pd\n",
    "import numpy as np\n",
    "import matplotlib.patches as mpatches"
   ]
  },
  {
   "cell_type": "code",
   "execution_count": 2,
   "metadata": {},
   "outputs": [],
   "source": [
    "covid_info = pd.read_csv(\"covid_19_data.csv\", index_col=\"SNo\")\n",
    "state_info = pd.read_csv(\"US_Additional_Info.csv\")"
   ]
  },
  {
   "cell_type": "code",
   "execution_count": 3,
   "metadata": {},
   "outputs": [
    {
     "data": {
      "text/html": [
       "<div>\n",
       "<style scoped>\n",
       "    .dataframe tbody tr th:only-of-type {\n",
       "        vertical-align: middle;\n",
       "    }\n",
       "\n",
       "    .dataframe tbody tr th {\n",
       "        vertical-align: top;\n",
       "    }\n",
       "\n",
       "    .dataframe thead th {\n",
       "        text-align: right;\n",
       "    }\n",
       "</style>\n",
       "<table border=\"1\" class=\"dataframe\">\n",
       "  <thead>\n",
       "    <tr style=\"text-align: right;\">\n",
       "      <th></th>\n",
       "      <th>ObservationDate</th>\n",
       "      <th>Province/State</th>\n",
       "      <th>Country/Region</th>\n",
       "      <th>Last Update</th>\n",
       "      <th>Confirmed</th>\n",
       "      <th>Deaths</th>\n",
       "      <th>Recovered</th>\n",
       "    </tr>\n",
       "    <tr>\n",
       "      <th>SNo</th>\n",
       "      <th></th>\n",
       "      <th></th>\n",
       "      <th></th>\n",
       "      <th></th>\n",
       "      <th></th>\n",
       "      <th></th>\n",
       "      <th></th>\n",
       "    </tr>\n",
       "  </thead>\n",
       "  <tbody>\n",
       "    <tr>\n",
       "      <th>1</th>\n",
       "      <td>01/22/2020</td>\n",
       "      <td>Anhui</td>\n",
       "      <td>Mainland China</td>\n",
       "      <td>1/22/2020 17:00</td>\n",
       "      <td>1.0</td>\n",
       "      <td>0.0</td>\n",
       "      <td>0.0</td>\n",
       "    </tr>\n",
       "    <tr>\n",
       "      <th>2</th>\n",
       "      <td>01/22/2020</td>\n",
       "      <td>Beijing</td>\n",
       "      <td>Mainland China</td>\n",
       "      <td>1/22/2020 17:00</td>\n",
       "      <td>14.0</td>\n",
       "      <td>0.0</td>\n",
       "      <td>0.0</td>\n",
       "    </tr>\n",
       "    <tr>\n",
       "      <th>3</th>\n",
       "      <td>01/22/2020</td>\n",
       "      <td>Chongqing</td>\n",
       "      <td>Mainland China</td>\n",
       "      <td>1/22/2020 17:00</td>\n",
       "      <td>6.0</td>\n",
       "      <td>0.0</td>\n",
       "      <td>0.0</td>\n",
       "    </tr>\n",
       "    <tr>\n",
       "      <th>4</th>\n",
       "      <td>01/22/2020</td>\n",
       "      <td>Fujian</td>\n",
       "      <td>Mainland China</td>\n",
       "      <td>1/22/2020 17:00</td>\n",
       "      <td>1.0</td>\n",
       "      <td>0.0</td>\n",
       "      <td>0.0</td>\n",
       "    </tr>\n",
       "    <tr>\n",
       "      <th>5</th>\n",
       "      <td>01/22/2020</td>\n",
       "      <td>Gansu</td>\n",
       "      <td>Mainland China</td>\n",
       "      <td>1/22/2020 17:00</td>\n",
       "      <td>0.0</td>\n",
       "      <td>0.0</td>\n",
       "      <td>0.0</td>\n",
       "    </tr>\n",
       "  </tbody>\n",
       "</table>\n",
       "</div>"
      ],
      "text/plain": [
       "    ObservationDate Province/State  Country/Region      Last Update  \\\n",
       "SNo                                                                   \n",
       "1        01/22/2020          Anhui  Mainland China  1/22/2020 17:00   \n",
       "2        01/22/2020        Beijing  Mainland China  1/22/2020 17:00   \n",
       "3        01/22/2020      Chongqing  Mainland China  1/22/2020 17:00   \n",
       "4        01/22/2020         Fujian  Mainland China  1/22/2020 17:00   \n",
       "5        01/22/2020          Gansu  Mainland China  1/22/2020 17:00   \n",
       "\n",
       "     Confirmed  Deaths  Recovered  \n",
       "SNo                                \n",
       "1          1.0     0.0        0.0  \n",
       "2         14.0     0.0        0.0  \n",
       "3          6.0     0.0        0.0  \n",
       "4          1.0     0.0        0.0  \n",
       "5          0.0     0.0        0.0  "
      ]
     },
     "execution_count": 3,
     "metadata": {},
     "output_type": "execute_result"
    }
   ],
   "source": [
    "covid_info.head()"
   ]
  },
  {
   "cell_type": "code",
   "execution_count": 4,
   "metadata": {},
   "outputs": [
    {
     "data": {
      "text/html": [
       "<div>\n",
       "<style scoped>\n",
       "    .dataframe tbody tr th:only-of-type {\n",
       "        vertical-align: middle;\n",
       "    }\n",
       "\n",
       "    .dataframe tbody tr th {\n",
       "        vertical-align: top;\n",
       "    }\n",
       "\n",
       "    .dataframe thead th {\n",
       "        text-align: right;\n",
       "    }\n",
       "</style>\n",
       "<table border=\"1\" class=\"dataframe\">\n",
       "  <thead>\n",
       "    <tr style=\"text-align: right;\">\n",
       "      <th></th>\n",
       "      <th>State</th>\n",
       "      <th>Must wear mask since</th>\n",
       "      <th>Politic</th>\n",
       "    </tr>\n",
       "  </thead>\n",
       "  <tbody>\n",
       "    <tr>\n",
       "      <th>0</th>\n",
       "      <td>Alabama</td>\n",
       "      <td>15-07-20</td>\n",
       "      <td>Red</td>\n",
       "    </tr>\n",
       "    <tr>\n",
       "      <th>1</th>\n",
       "      <td>Alaska</td>\n",
       "      <td>NaN</td>\n",
       "      <td>Red</td>\n",
       "    </tr>\n",
       "    <tr>\n",
       "      <th>2</th>\n",
       "      <td>Arizona</td>\n",
       "      <td>NaN</td>\n",
       "      <td>Red</td>\n",
       "    </tr>\n",
       "    <tr>\n",
       "      <th>3</th>\n",
       "      <td>Arkansas</td>\n",
       "      <td>20-07-20</td>\n",
       "      <td>Red</td>\n",
       "    </tr>\n",
       "    <tr>\n",
       "      <th>4</th>\n",
       "      <td>California</td>\n",
       "      <td>18-06-20</td>\n",
       "      <td>Blue</td>\n",
       "    </tr>\n",
       "  </tbody>\n",
       "</table>\n",
       "</div>"
      ],
      "text/plain": [
       "        State Must wear mask since Politic\n",
       "0     Alabama             15-07-20     Red\n",
       "1      Alaska                  NaN     Red\n",
       "2     Arizona                  NaN     Red\n",
       "3    Arkansas             20-07-20     Red\n",
       "4  California             18-06-20    Blue"
      ]
     },
     "execution_count": 4,
     "metadata": {},
     "output_type": "execute_result"
    }
   ],
   "source": [
    "state_info.head()"
   ]
  },
  {
   "cell_type": "markdown",
   "metadata": {},
   "source": [
    "Ở **covid_info**, ta có cột dữ liệu sau:\n",
    " - `ObservationDate`: Ngày mà dữ liệu lưu lại\n",
    " - `Province/State`: Tỉnh, khu vực, bang\n",
    " - `Country/Region`: Nước/vùng lãnh thổ\n",
    " - `Last Update`: Lần update cuối cùng trong ngày ObservationDate\n",
    " - `Confirmed`: Số ca nhiễm\n",
    " - `Deaths`: Số ca tử vong\n",
    " - `Recovered`: Số ca hồi phục"
   ]
  },
  {
   "cell_type": "markdown",
   "metadata": {},
   "source": [
    "Ở **state_info**, ta có cột dữ liệu:\n",
    " - `State`: Tên bang ở Mỹ\n",
    " - `Must wear mask since`: Ngày luật bắt buộc đeo khẩu trang có hiệu lực\n",
    " - `Politic`: Đảng có ảnh hưởng lớn hơn ở bang này (Red = Republican, Blue = Democratic)"
   ]
  },
  {
   "cell_type": "markdown",
   "metadata": {},
   "source": [
    "Ở **covid_info** ta chỉ quan tâm nước Mỹ, nên ta lọc **Country/Region\t== US** và đồng thời bỏ cột Country/Region\n",
    "\n",
    "Ta bỏ qua cột **Last Update**, chỉ chú trọng cột **ObservationDate**"
   ]
  },
  {
   "cell_type": "code",
   "execution_count": 5,
   "metadata": {},
   "outputs": [
    {
     "data": {
      "text/html": [
       "<div>\n",
       "<style scoped>\n",
       "    .dataframe tbody tr th:only-of-type {\n",
       "        vertical-align: middle;\n",
       "    }\n",
       "\n",
       "    .dataframe tbody tr th {\n",
       "        vertical-align: top;\n",
       "    }\n",
       "\n",
       "    .dataframe thead th {\n",
       "        text-align: right;\n",
       "    }\n",
       "</style>\n",
       "<table border=\"1\" class=\"dataframe\">\n",
       "  <thead>\n",
       "    <tr style=\"text-align: right;\">\n",
       "      <th></th>\n",
       "      <th>ObservationDate</th>\n",
       "      <th>Province/State</th>\n",
       "      <th>Confirmed</th>\n",
       "      <th>Deaths</th>\n",
       "      <th>Recovered</th>\n",
       "    </tr>\n",
       "    <tr>\n",
       "      <th>SNo</th>\n",
       "      <th></th>\n",
       "      <th></th>\n",
       "      <th></th>\n",
       "      <th></th>\n",
       "      <th></th>\n",
       "    </tr>\n",
       "  </thead>\n",
       "  <tbody>\n",
       "    <tr>\n",
       "      <th>32</th>\n",
       "      <td>01/22/2020</td>\n",
       "      <td>Washington</td>\n",
       "      <td>1.0</td>\n",
       "      <td>0.0</td>\n",
       "      <td>0.0</td>\n",
       "    </tr>\n",
       "    <tr>\n",
       "      <th>70</th>\n",
       "      <td>01/23/2020</td>\n",
       "      <td>Washington</td>\n",
       "      <td>1.0</td>\n",
       "      <td>0.0</td>\n",
       "      <td>0.0</td>\n",
       "    </tr>\n",
       "    <tr>\n",
       "      <th>118</th>\n",
       "      <td>01/24/2020</td>\n",
       "      <td>Washington</td>\n",
       "      <td>1.0</td>\n",
       "      <td>0.0</td>\n",
       "      <td>0.0</td>\n",
       "    </tr>\n",
       "    <tr>\n",
       "      <th>119</th>\n",
       "      <td>01/24/2020</td>\n",
       "      <td>Chicago</td>\n",
       "      <td>1.0</td>\n",
       "      <td>0.0</td>\n",
       "      <td>0.0</td>\n",
       "    </tr>\n",
       "    <tr>\n",
       "      <th>159</th>\n",
       "      <td>01/25/2020</td>\n",
       "      <td>Washington</td>\n",
       "      <td>1.0</td>\n",
       "      <td>0.0</td>\n",
       "      <td>0.0</td>\n",
       "    </tr>\n",
       "  </tbody>\n",
       "</table>\n",
       "</div>"
      ],
      "text/plain": [
       "    ObservationDate Province/State  Confirmed  Deaths  Recovered\n",
       "SNo                                                             \n",
       "32       01/22/2020     Washington        1.0     0.0        0.0\n",
       "70       01/23/2020     Washington        1.0     0.0        0.0\n",
       "118      01/24/2020     Washington        1.0     0.0        0.0\n",
       "119      01/24/2020        Chicago        1.0     0.0        0.0\n",
       "159      01/25/2020     Washington        1.0     0.0        0.0"
      ]
     },
     "execution_count": 5,
     "metadata": {},
     "output_type": "execute_result"
    }
   ],
   "source": [
    "covid_info = covid_info[covid_info[\"Country/Region\"] == \"US\"].drop([\"Last Update\", \"Country/Region\"], axis=1)\n",
    "covid_info.head()"
   ]
  },
  {
   "cell_type": "code",
   "execution_count": 6,
   "metadata": {},
   "outputs": [
    {
     "data": {
      "text/plain": [
       "ObservationDate     object\n",
       "Province/State      object\n",
       "Confirmed          float64\n",
       "Deaths             float64\n",
       "Recovered          float64\n",
       "dtype: object"
      ]
     },
     "execution_count": 6,
     "metadata": {},
     "output_type": "execute_result"
    }
   ],
   "source": [
    "covid_info.dtypes"
   ]
  },
  {
   "cell_type": "markdown",
   "metadata": {},
   "source": [
    "Cần convert **ObservationDate** sang DateTime"
   ]
  },
  {
   "cell_type": "code",
   "execution_count": 7,
   "metadata": {},
   "outputs": [],
   "source": [
    "covid_info[\"ObservationDate\"] = pd.to_datetime(covid_info[\"ObservationDate\"], format=\"%m/%d/%Y\")"
   ]
  },
  {
   "cell_type": "code",
   "execution_count": 8,
   "metadata": {},
   "outputs": [
    {
     "data": {
      "text/plain": [
       "ObservationDate    datetime64[ns]\n",
       "Province/State             object\n",
       "Confirmed                 float64\n",
       "Deaths                    float64\n",
       "Recovered                 float64\n",
       "dtype: object"
      ]
     },
     "execution_count": 8,
     "metadata": {},
     "output_type": "execute_result"
    }
   ],
   "source": [
    "covid_info.dtypes"
   ]
  },
  {
   "cell_type": "code",
   "execution_count": 9,
   "metadata": {},
   "outputs": [
    {
     "data": {
      "text/plain": [
       "State                   object\n",
       "Must wear mask since    object\n",
       "Politic                 object\n",
       "dtype: object"
      ]
     },
     "execution_count": 9,
     "metadata": {},
     "output_type": "execute_result"
    }
   ],
   "source": [
    "state_info.dtypes"
   ]
  },
  {
   "cell_type": "markdown",
   "metadata": {},
   "source": [
    "Cần convert **Must wear mask since** sang DateTime"
   ]
  },
  {
   "cell_type": "code",
   "execution_count": 10,
   "metadata": {},
   "outputs": [],
   "source": [
    "state_info[\"Must wear mask since\"] = pd.to_datetime(state_info[\"Must wear mask since\"], format=\"%d-%m-%y\")"
   ]
  },
  {
   "cell_type": "markdown",
   "metadata": {},
   "source": [
    "# IV. Sử dụng dữ liệu để trả lời các câu hỏi"
   ]
  },
  {
   "cell_type": "markdown",
   "metadata": {},
   "source": [
    "## 1. Sự bùng phát dịch bệnh ở Mỹ xảy ra như thế nào? (Mức độ nhiễm qua từng tháng)"
   ]
  },
  {
   "cell_type": "code",
   "execution_count": 11,
   "metadata": {},
   "outputs": [],
   "source": [
    "info_per_date = covid_info.groupby(\"ObservationDate\").sum()"
   ]
  },
  {
   "cell_type": "code",
   "execution_count": 12,
   "metadata": {},
   "outputs": [
    {
     "data": {
      "image/png": "[encoded data removed]",
      "text/plain": [
       "<Figure size 648x504 with 1 Axes>"
      ]
     },
     "metadata": {
      "needs_background": "light"
     },
     "output_type": "display_data"
    }
   ],
   "source": [
    "plt.figure(figsize=(9,7))\n",
    "plt.plot(info_per_date[\"Confirmed\"])\n",
    "\n",
    "ax = plt.gca()\n",
    "i = len(info_per_date[\"Confirmed\"].index) - 1\n",
    "tick = []\n",
    "while i>=0:\n",
    "    tick.append(info_per_date[\"Confirmed\"].index[i])\n",
    "    i-=30\n",
    "ax.axes.xaxis.set_ticks(tick)\n",
    "\n",
    "plt.xlabel(\"Date\")\n",
    "plt.ylabel(\"Infected (million)\")\n",
    "plt.title(\"US confirmed Covid-19 cases\")\n",
    "plt.show()"
   ]
  },
  {
   "cell_type": "code",
   "execution_count": 13,
   "metadata": {
    "scrolled": false
   },
   "outputs": [
    {
     "data": {
      "image/png": "[encoded data removed]",
      "text/plain": [
       "<Figure size 648x504 with 1 Axes>"
      ]
     },
     "metadata": {
      "needs_background": "light"
     },
     "output_type": "display_data"
    }
   ],
   "source": [
    "df = info_per_date[info_per_date.index >= \"2020-03-11\"]\n",
    "df = df[df.index <= \"2020-04-1\"]\n",
    "plt.figure(figsize=(9,7))\n",
    "plt.plot(df[\"Confirmed\"])\n",
    "plt.xlabel(\"Date\")\n",
    "plt.ylabel(\"Infected\")\n",
    "plt.title(\"US confirmed Covid-19 cases in March 2020\")\n",
    "plt.show()"
   ]
  },
  {
   "cell_type": "markdown",
   "metadata": {},
   "source": [
    "Ta thấy được số ca nhiễm dường như tăng đột biết vào khoảng giữa tháng 3, ngay sau khi tình trạng khẩn cấp quốc gia được ban bố nhưng cách ngày phát hiện ca nhiễm đầu tiên đến 2 tháng"
   ]
  },
  {
   "cell_type": "markdown",
   "metadata": {},
   "source": [
    "Liệu trước đó đã có nhiều người nhiễm nhưng không phát hiện cho tới sau khi tình trạng khẩn cấp quốc gia?"
   ]
  },
  {
   "cell_type": "markdown",
   "metadata": {},
   "source": [
    "## 2. Liệu bất ổn chính trị ở Mỹ có ảnh hưởng đến sự bùng phát dịch bệnh?"
   ]
  },
  {
   "cell_type": "markdown",
   "metadata": {},
   "source": [
    "Để trả lời câu hỏi này, ta tìm hiểu mức độ lây nhiễm giữa các bang chịu ảnh hưởng chính trị bởi 2 đảng phái đối lập"
   ]
  },
  {
   "cell_type": "markdown",
   "metadata": {},
   "source": [
    "Do các đảng phái có chính sách gần như đối lập khác nhau, nếu một phía có mức độ lây nhiễm cao hơn ta có thể kết luận sự bùng phát dịch bệnh một phần do bất ổn chính trị ở thời điểm đó và ngược lại"
   ]
  },
  {
   "cell_type": "markdown",
   "metadata": {},
   "source": [
    "**Tiền xử lí**: \n",
    " - Ở đây mình sẽ lấy dữ liệu tên các bang thuộc 2 đảng đối lập vào 2 mảng\n",
    " - Mỗi mảng tạo thành 2 df, **df_covid_info** là số ca nhiễm của các bang trong mảng đó, **df_covid_rate** là số ca nhiễm mới từng ngày"
   ]
  },
  {
   "cell_type": "code",
   "execution_count": 14,
   "metadata": {},
   "outputs": [
    {
     "data": {
      "text/plain": [
       "array(['Alabama', 'Alaska', 'Arizona', 'Arkansas', 'Colorado', 'Florida',\n",
       "       'Georgia', 'Idaho', 'Indiana', 'Iowa', 'Kansas', 'Kentucky',\n",
       "       'Louisiana', 'Michigan', 'Mississippi', 'Missouri', 'Montana',\n",
       "       'Nebraska', 'North Carolina', 'North Dakota', 'Ohio', 'Oklahoma',\n",
       "       'Pennsylvania', 'South Carolina', 'South Dakota', 'Tennessee',\n",
       "       'Texas', 'Utah', 'West Virginia', 'Wisconsin', 'Wyoming'],\n",
       "      dtype=object)"
      ]
     },
     "execution_count": 14,
     "metadata": {},
     "output_type": "execute_result"
    }
   ],
   "source": [
    "red_state = state_info[state_info[\"Politic\"] == \"Red\"][\"State\"].to_numpy()\n",
    "red_state"
   ]
  },
  {
   "cell_type": "code",
   "execution_count": 15,
   "metadata": {},
   "outputs": [
    {
     "data": {
      "text/plain": [
       "array(['California', 'Connecticut', 'Delaware', 'Hawaii', 'Illinois',\n",
       "       'Maine', 'Maryland', 'Massachusetts', 'Minnesota', 'Nevada',\n",
       "       'New Hampshire', 'New Jersey', 'New Mexico', 'New York', 'Oregon',\n",
       "       'Rhode Island', 'Vermont', 'Virginia', 'Washington'], dtype=object)"
      ]
     },
     "execution_count": 15,
     "metadata": {},
     "output_type": "execute_result"
    }
   ],
   "source": [
    "blue_state = state_info[state_info[\"Politic\"] == \"Blue\"][\"State\"].to_numpy()\n",
    "blue_state"
   ]
  },
  {
   "cell_type": "code",
   "execution_count": 16,
   "metadata": {},
   "outputs": [],
   "source": [
    "df_covid_info_blue = covid_info[covid_info[\"Province/State\"].isin(blue_state)].groupby(\"ObservationDate\").sum()\n",
    "df_covid_rate_blue = df_covid_info_blue.diff()\n",
    "\n",
    "df_covid_info_red = covid_info[covid_info[\"Province/State\"].isin(red_state)].groupby(\"ObservationDate\").sum()\n",
    "df_covid_rate_red = df_covid_info_red.diff()"
   ]
  },
  {
   "cell_type": "markdown",
   "metadata": {},
   "source": [
    "Như đã thấy ở câu 1, dữ liệu trước ngày ban bố tình trạng khẩn cấp có vẻ thiếu (?), nên ta bỏ những ngày đó ra (rút ngắn phần không cần thiết trên biểu đồ)"
   ]
  },
  {
   "cell_type": "code",
   "execution_count": 17,
   "metadata": {},
   "outputs": [],
   "source": [
    "df_covid_info_blue = df_covid_info_blue[df_covid_info_blue.index >= \"2020-03-11\"]\n",
    "df_covid_rate_blue = df_covid_rate_blue[df_covid_rate_blue.index >= \"2020-03-11\"]\n",
    "\n",
    "df_covid_info_red = df_covid_info_red[df_covid_info_red.index >= \"2020-03-11\"]\n",
    "df_covid_rate_red = df_covid_rate_red[df_covid_rate_red.index >= \"2020-03-11\"]"
   ]
  },
  {
   "cell_type": "code",
   "execution_count": 18,
   "metadata": {
    "scrolled": false
   },
   "outputs": [
    {
     "data": {
      "text/plain": [
       "Text(0, 0.5, 'New infection')"
      ]
     },
     "execution_count": 18,
     "metadata": {},
     "output_type": "execute_result"
    },
    {
     "data": {
      "image/png": "[encoded data removed]",
      "text/plain": [
       "<Figure size 648x504 with 1 Axes>"
      ]
     },
     "metadata": {
      "needs_background": "light"
     },
     "output_type": "display_data"
    }
   ],
   "source": [
    "plt.figure(figsize=(9,7))\n",
    "plt.plot(df_covid_rate_blue[\"Confirmed\"], 'b', label='Democratic')\n",
    "plt.plot(df_covid_rate_red[\"Confirmed\"], 'r', label='Republican')\n",
    "plt.legend(bbox_to_anchor=(1.05, 1), loc='upper left', borderaxespad=0.)\n",
    "plt.title(\"Infection rate between red and blue state\")\n",
    "plt.xlabel(\"Date\")\n",
    "plt.ylabel(\"New infection\")"
   ]
  },
  {
   "cell_type": "code",
   "execution_count": 19,
   "metadata": {},
   "outputs": [
    {
     "data": {
      "text/plain": [
       "Text(0, 0.5, 'Infected (million)')"
      ]
     },
     "execution_count": 19,
     "metadata": {},
     "output_type": "execute_result"
    },
    {
     "data": {
      "image/png": "[encoded data removed]",
      "text/plain": [
       "<Figure size 648x504 with 1 Axes>"
      ]
     },
     "metadata": {
      "needs_background": "light"
     },
     "output_type": "display_data"
    }
   ],
   "source": [
    "plt.figure(figsize=(9,7))\n",
    "plt.plot(df_covid_info_blue[\"Confirmed\"], 'b', label='Democratic')\n",
    "plt.plot(df_covid_info_red[\"Confirmed\"], 'r', label='Republican')\n",
    "plt.legend(bbox_to_anchor=(1.05, 1), loc='upper left', borderaxespad=0.)\n",
    "plt.title(\"Total infected between red and blue state\")\n",
    "plt.xlabel(\"Date\")\n",
    "plt.ylabel(\"Infected (million)\")"
   ]
  },
  {
   "cell_type": "markdown",
   "metadata": {},
   "source": [
    "Ta thấy rõ ràng dù ban đầu phía Democratic có số tốc độ lây nhiễm cao hơn (tháng 4, 5) nhưng về sau nó đã được không chế xuống. Cùng lúc đó phía Republican tăng không kiểm soát đến giữa tháng 7 mới có dấu hiệu sụt giảm nhưng vẫn còn cao\n",
    "\n",
    "-> Chính sách đối lập của các bang có ảnh hưởng đến sự bùng phát dịch bệnh"
   ]
  },
  {
   "cell_type": "markdown",
   "metadata": {},
   "source": [
    "## 3. Dẫn chứng về bất ổn chính trị ở Mỹ ảnh hưởng đến sự lây lan của dịch bệnh"
   ]
  },
  {
   "cell_type": "markdown",
   "metadata": {},
   "source": [
    "Ta cần chỉ ra một sự khác biệt chính sách giữa 2 đảng đối lập chính, ở đây sử dụng ngày bắt đầu ban hành luật \"Bắt buộc đeo khẩu trang ở nơi công cộng\". Ta xem xét số lượng nhiễm khi luật bắt đầu có hiệu lực, đối với những bang chưa ban hành ta xem như hiện tại là \"số lượng nhiễm khi luật bắt đầu\""
   ]
  },
  {
   "cell_type": "markdown",
   "metadata": {},
   "source": [
    "**Tiền xử lí**:\n",
    " - **per_state_info** là df chứa thông tin số ca nhiễm, chết, hồi phục chia ra từng bang\n",
    " - **state_info_filled_NaN** được tạo là một copy của **state_info** để fillna = \"25-08-20\", thực hiện ý >đối với những bang chưa ban hành ta xem như hiện tại là \"số lượng nhiễm khi luật bắt đầu\"< ở trên. Tạo copy là để khi plot dùng df ban đầu vẫn có thể hiện nan ở những thời gian nan\n",
    " - Khi đã có số ngày, tên bang và số ca nhiễm mỗi ngày/bang, thực hiện thêm một cột \"Confirmed before\" vào **state_info**"
   ]
  },
  {
   "cell_type": "code",
   "execution_count": 20,
   "metadata": {},
   "outputs": [],
   "source": [
    "per_state_info = covid_info.groupby([\"ObservationDate\", \"Province/State\"]).agg(\"sum\").unstack(\"Province/State\")"
   ]
  },
  {
   "cell_type": "code",
   "execution_count": 21,
   "metadata": {
    "scrolled": true
   },
   "outputs": [],
   "source": [
    "state_info_filled_NaN = state_info.copy()\n",
    "state_info_filled_NaN['Must wear mask since'] = state_info_filled_NaN['Must wear mask since'].fillna(\"25-08-20\")"
   ]
  },
  {
   "cell_type": "code",
   "execution_count": 22,
   "metadata": {},
   "outputs": [],
   "source": [
    "confirmed_at_in_effect_date = []\n",
    "\n",
    "for i in range(state_info.shape[0]):\n",
    "    state = state_info_filled_NaN[\"State\"][i]\n",
    "    in_effect_date = state_info_filled_NaN[\"Must wear mask since\"][i]\n",
    "    \n",
    "    in_effect_date = pd.to_datetime(in_effect_date, format=\"%d-%m-%y\")\n",
    "    \n",
    "    x = per_state_info[per_state_info.index == in_effect_date][\"Confirmed\", state]\n",
    "    \n",
    "    confirmed_at_in_effect_date.append(x.values[0])\n",
    "    \n",
    "state_info[\"Confirmed before\"] = confirmed_at_in_effect_date"
   ]
  },
  {
   "cell_type": "code",
   "execution_count": 23,
   "metadata": {
    "scrolled": true
   },
   "outputs": [
    {
     "data": {
      "text/html": [
       "<div>\n",
       "<style scoped>\n",
       "    .dataframe tbody tr th:only-of-type {\n",
       "        vertical-align: middle;\n",
       "    }\n",
       "\n",
       "    .dataframe tbody tr th {\n",
       "        vertical-align: top;\n",
       "    }\n",
       "\n",
       "    .dataframe thead th {\n",
       "        text-align: right;\n",
       "    }\n",
       "</style>\n",
       "<table border=\"1\" class=\"dataframe\">\n",
       "  <thead>\n",
       "    <tr style=\"text-align: right;\">\n",
       "      <th></th>\n",
       "      <th>State</th>\n",
       "      <th>Must wear mask since</th>\n",
       "      <th>Politic</th>\n",
       "      <th>Confirmed before</th>\n",
       "    </tr>\n",
       "  </thead>\n",
       "  <tbody>\n",
       "    <tr>\n",
       "      <th>0</th>\n",
       "      <td>Alabama</td>\n",
       "      <td>2020-07-15</td>\n",
       "      <td>Red</td>\n",
       "      <td>59067.0</td>\n",
       "    </tr>\n",
       "    <tr>\n",
       "      <th>1</th>\n",
       "      <td>Alaska</td>\n",
       "      <td>NaT</td>\n",
       "      <td>Red</td>\n",
       "      <td>4843.0</td>\n",
       "    </tr>\n",
       "    <tr>\n",
       "      <th>2</th>\n",
       "      <td>Arizona</td>\n",
       "      <td>NaT</td>\n",
       "      <td>Red</td>\n",
       "      <td>199273.0</td>\n",
       "    </tr>\n",
       "    <tr>\n",
       "      <th>3</th>\n",
       "      <td>Arkansas</td>\n",
       "      <td>2020-07-20</td>\n",
       "      <td>Red</td>\n",
       "      <td>33927.0</td>\n",
       "    </tr>\n",
       "    <tr>\n",
       "      <th>4</th>\n",
       "      <td>California</td>\n",
       "      <td>2020-06-18</td>\n",
       "      <td>Blue</td>\n",
       "      <td>167086.0</td>\n",
       "    </tr>\n",
       "    <tr>\n",
       "      <th>5</th>\n",
       "      <td>Colorado</td>\n",
       "      <td>2020-07-17</td>\n",
       "      <td>Red</td>\n",
       "      <td>39326.0</td>\n",
       "    </tr>\n",
       "    <tr>\n",
       "      <th>6</th>\n",
       "      <td>Connecticut</td>\n",
       "      <td>2020-04-20</td>\n",
       "      <td>Blue</td>\n",
       "      <td>19815.0</td>\n",
       "    </tr>\n",
       "    <tr>\n",
       "      <th>7</th>\n",
       "      <td>Delaware</td>\n",
       "      <td>2020-04-28</td>\n",
       "      <td>Blue</td>\n",
       "      <td>4575.0</td>\n",
       "    </tr>\n",
       "    <tr>\n",
       "      <th>8</th>\n",
       "      <td>Florida</td>\n",
       "      <td>NaT</td>\n",
       "      <td>Red</td>\n",
       "      <td>605502.0</td>\n",
       "    </tr>\n",
       "    <tr>\n",
       "      <th>9</th>\n",
       "      <td>Georgia</td>\n",
       "      <td>NaT</td>\n",
       "      <td>Red</td>\n",
       "      <td>258354.0</td>\n",
       "    </tr>\n",
       "    <tr>\n",
       "      <th>10</th>\n",
       "      <td>Hawaii</td>\n",
       "      <td>2020-04-20</td>\n",
       "      <td>Blue</td>\n",
       "      <td>584.0</td>\n",
       "    </tr>\n",
       "    <tr>\n",
       "      <th>11</th>\n",
       "      <td>Idaho</td>\n",
       "      <td>NaT</td>\n",
       "      <td>Red</td>\n",
       "      <td>30465.0</td>\n",
       "    </tr>\n",
       "    <tr>\n",
       "      <th>12</th>\n",
       "      <td>Illinois</td>\n",
       "      <td>2020-05-01</td>\n",
       "      <td>Blue</td>\n",
       "      <td>56055.0</td>\n",
       "    </tr>\n",
       "    <tr>\n",
       "      <th>13</th>\n",
       "      <td>Indiana</td>\n",
       "      <td>2020-07-27</td>\n",
       "      <td>Red</td>\n",
       "      <td>62907.0</td>\n",
       "    </tr>\n",
       "    <tr>\n",
       "      <th>14</th>\n",
       "      <td>Iowa</td>\n",
       "      <td>NaT</td>\n",
       "      <td>Red</td>\n",
       "      <td>57606.0</td>\n",
       "    </tr>\n",
       "    <tr>\n",
       "      <th>15</th>\n",
       "      <td>Kansas</td>\n",
       "      <td>2020-07-03</td>\n",
       "      <td>Red</td>\n",
       "      <td>15659.0</td>\n",
       "    </tr>\n",
       "    <tr>\n",
       "      <th>16</th>\n",
       "      <td>Kentucky</td>\n",
       "      <td>2020-05-11</td>\n",
       "      <td>Red</td>\n",
       "      <td>6677.0</td>\n",
       "    </tr>\n",
       "    <tr>\n",
       "      <th>17</th>\n",
       "      <td>Louisiana</td>\n",
       "      <td>2020-07-13</td>\n",
       "      <td>Red</td>\n",
       "      <td>79827.0</td>\n",
       "    </tr>\n",
       "    <tr>\n",
       "      <th>18</th>\n",
       "      <td>Maine</td>\n",
       "      <td>2020-05-01</td>\n",
       "      <td>Blue</td>\n",
       "      <td>1123.0</td>\n",
       "    </tr>\n",
       "    <tr>\n",
       "      <th>19</th>\n",
       "      <td>Maryland</td>\n",
       "      <td>2020-04-18</td>\n",
       "      <td>Blue</td>\n",
       "      <td>12326.0</td>\n",
       "    </tr>\n",
       "    <tr>\n",
       "      <th>20</th>\n",
       "      <td>Massachusetts</td>\n",
       "      <td>2020-05-06</td>\n",
       "      <td>Blue</td>\n",
       "      <td>72025.0</td>\n",
       "    </tr>\n",
       "    <tr>\n",
       "      <th>21</th>\n",
       "      <td>Michigan</td>\n",
       "      <td>2020-06-18</td>\n",
       "      <td>Red</td>\n",
       "      <td>66798.0</td>\n",
       "    </tr>\n",
       "    <tr>\n",
       "      <th>22</th>\n",
       "      <td>Minnesota</td>\n",
       "      <td>2020-07-25</td>\n",
       "      <td>Blue</td>\n",
       "      <td>50291.0</td>\n",
       "    </tr>\n",
       "    <tr>\n",
       "      <th>23</th>\n",
       "      <td>Mississippi</td>\n",
       "      <td>NaT</td>\n",
       "      <td>Red</td>\n",
       "      <td>79206.0</td>\n",
       "    </tr>\n",
       "    <tr>\n",
       "      <th>24</th>\n",
       "      <td>Missouri</td>\n",
       "      <td>NaT</td>\n",
       "      <td>Red</td>\n",
       "      <td>77390.0</td>\n",
       "    </tr>\n",
       "    <tr>\n",
       "      <th>25</th>\n",
       "      <td>Montana</td>\n",
       "      <td>2020-07-16</td>\n",
       "      <td>Red</td>\n",
       "      <td>2231.0</td>\n",
       "    </tr>\n",
       "    <tr>\n",
       "      <th>26</th>\n",
       "      <td>Nebraska</td>\n",
       "      <td>NaT</td>\n",
       "      <td>Red</td>\n",
       "      <td>32348.0</td>\n",
       "    </tr>\n",
       "    <tr>\n",
       "      <th>27</th>\n",
       "      <td>Nevada</td>\n",
       "      <td>2020-06-24</td>\n",
       "      <td>Blue</td>\n",
       "      <td>13528.0</td>\n",
       "    </tr>\n",
       "    <tr>\n",
       "      <th>28</th>\n",
       "      <td>New Hampshire</td>\n",
       "      <td>2020-08-11</td>\n",
       "      <td>Blue</td>\n",
       "      <td>6861.0</td>\n",
       "    </tr>\n",
       "    <tr>\n",
       "      <th>29</th>\n",
       "      <td>New Jersey</td>\n",
       "      <td>2020-04-08</td>\n",
       "      <td>Blue</td>\n",
       "      <td>47437.0</td>\n",
       "    </tr>\n",
       "    <tr>\n",
       "      <th>30</th>\n",
       "      <td>New Mexico</td>\n",
       "      <td>2020-05-16</td>\n",
       "      <td>Blue</td>\n",
       "      <td>5847.0</td>\n",
       "    </tr>\n",
       "    <tr>\n",
       "      <th>31</th>\n",
       "      <td>New York</td>\n",
       "      <td>2020-04-17</td>\n",
       "      <td>Blue</td>\n",
       "      <td>230597.0</td>\n",
       "    </tr>\n",
       "    <tr>\n",
       "      <th>32</th>\n",
       "      <td>North Carolina</td>\n",
       "      <td>2020-06-26</td>\n",
       "      <td>Red</td>\n",
       "      <td>59158.0</td>\n",
       "    </tr>\n",
       "    <tr>\n",
       "      <th>33</th>\n",
       "      <td>North Dakota</td>\n",
       "      <td>NaT</td>\n",
       "      <td>Red</td>\n",
       "      <td>10229.0</td>\n",
       "    </tr>\n",
       "    <tr>\n",
       "      <th>34</th>\n",
       "      <td>Ohio</td>\n",
       "      <td>2020-07-23</td>\n",
       "      <td>Red</td>\n",
       "      <td>80186.0</td>\n",
       "    </tr>\n",
       "    <tr>\n",
       "      <th>35</th>\n",
       "      <td>Oklahoma</td>\n",
       "      <td>NaT</td>\n",
       "      <td>Red</td>\n",
       "      <td>54172.0</td>\n",
       "    </tr>\n",
       "    <tr>\n",
       "      <th>36</th>\n",
       "      <td>Oregon</td>\n",
       "      <td>2020-07-01</td>\n",
       "      <td>Blue</td>\n",
       "      <td>8931.0</td>\n",
       "    </tr>\n",
       "    <tr>\n",
       "      <th>37</th>\n",
       "      <td>Pennsylvania</td>\n",
       "      <td>2020-04-19</td>\n",
       "      <td>Red</td>\n",
       "      <td>32902.0</td>\n",
       "    </tr>\n",
       "    <tr>\n",
       "      <th>38</th>\n",
       "      <td>Rhode Island</td>\n",
       "      <td>2020-05-08</td>\n",
       "      <td>Blue</td>\n",
       "      <td>10779.0</td>\n",
       "    </tr>\n",
       "    <tr>\n",
       "      <th>39</th>\n",
       "      <td>South Carolina</td>\n",
       "      <td>NaT</td>\n",
       "      <td>Red</td>\n",
       "      <td>113488.0</td>\n",
       "    </tr>\n",
       "    <tr>\n",
       "      <th>40</th>\n",
       "      <td>South Dakota</td>\n",
       "      <td>NaT</td>\n",
       "      <td>Red</td>\n",
       "      <td>11505.0</td>\n",
       "    </tr>\n",
       "    <tr>\n",
       "      <th>41</th>\n",
       "      <td>Tennessee</td>\n",
       "      <td>NaT</td>\n",
       "      <td>Red</td>\n",
       "      <td>145417.0</td>\n",
       "    </tr>\n",
       "    <tr>\n",
       "      <th>42</th>\n",
       "      <td>Texas</td>\n",
       "      <td>2020-07-03</td>\n",
       "      <td>Red</td>\n",
       "      <td>185591.0</td>\n",
       "    </tr>\n",
       "    <tr>\n",
       "      <th>43</th>\n",
       "      <td>Utah</td>\n",
       "      <td>NaT</td>\n",
       "      <td>Red</td>\n",
       "      <td>49767.0</td>\n",
       "    </tr>\n",
       "    <tr>\n",
       "      <th>44</th>\n",
       "      <td>Vermont</td>\n",
       "      <td>2020-08-01</td>\n",
       "      <td>Blue</td>\n",
       "      <td>1421.0</td>\n",
       "    </tr>\n",
       "    <tr>\n",
       "      <th>45</th>\n",
       "      <td>Virginia</td>\n",
       "      <td>2020-05-29</td>\n",
       "      <td>Blue</td>\n",
       "      <td>42533.0</td>\n",
       "    </tr>\n",
       "    <tr>\n",
       "      <th>46</th>\n",
       "      <td>Washington</td>\n",
       "      <td>2020-06-26</td>\n",
       "      <td>Blue</td>\n",
       "      <td>30855.0</td>\n",
       "    </tr>\n",
       "    <tr>\n",
       "      <th>47</th>\n",
       "      <td>West Virginia</td>\n",
       "      <td>2020-07-06</td>\n",
       "      <td>Red</td>\n",
       "      <td>3442.0</td>\n",
       "    </tr>\n",
       "    <tr>\n",
       "      <th>48</th>\n",
       "      <td>Wisconsin</td>\n",
       "      <td>2020-08-01</td>\n",
       "      <td>Red</td>\n",
       "      <td>54002.0</td>\n",
       "    </tr>\n",
       "    <tr>\n",
       "      <th>49</th>\n",
       "      <td>Wyoming</td>\n",
       "      <td>NaT</td>\n",
       "      <td>Red</td>\n",
       "      <td>3632.0</td>\n",
       "    </tr>\n",
       "  </tbody>\n",
       "</table>\n",
       "</div>"
      ],
      "text/plain": [
       "             State Must wear mask since Politic  Confirmed before\n",
       "0          Alabama           2020-07-15     Red           59067.0\n",
       "1           Alaska                  NaT     Red            4843.0\n",
       "2          Arizona                  NaT     Red          199273.0\n",
       "3         Arkansas           2020-07-20     Red           33927.0\n",
       "4       California           2020-06-18    Blue          167086.0\n",
       "5         Colorado           2020-07-17     Red           39326.0\n",
       "6      Connecticut           2020-04-20    Blue           19815.0\n",
       "7         Delaware           2020-04-28    Blue            4575.0\n",
       "8          Florida                  NaT     Red          605502.0\n",
       "9          Georgia                  NaT     Red          258354.0\n",
       "10          Hawaii           2020-04-20    Blue             584.0\n",
       "11           Idaho                  NaT     Red           30465.0\n",
       "12        Illinois           2020-05-01    Blue           56055.0\n",
       "13         Indiana           2020-07-27     Red           62907.0\n",
       "14            Iowa                  NaT     Red           57606.0\n",
       "15          Kansas           2020-07-03     Red           15659.0\n",
       "16        Kentucky           2020-05-11     Red            6677.0\n",
       "17       Louisiana           2020-07-13     Red           79827.0\n",
       "18           Maine           2020-05-01    Blue            1123.0\n",
       "19        Maryland           2020-04-18    Blue           12326.0\n",
       "20   Massachusetts           2020-05-06    Blue           72025.0\n",
       "21        Michigan           2020-06-18     Red           66798.0\n",
       "22       Minnesota           2020-07-25    Blue           50291.0\n",
       "23     Mississippi                  NaT     Red           79206.0\n",
       "24        Missouri                  NaT     Red           77390.0\n",
       "25         Montana           2020-07-16     Red            2231.0\n",
       "26        Nebraska                  NaT     Red           32348.0\n",
       "27          Nevada           2020-06-24    Blue           13528.0\n",
       "28   New Hampshire           2020-08-11    Blue            6861.0\n",
       "29      New Jersey           2020-04-08    Blue           47437.0\n",
       "30      New Mexico           2020-05-16    Blue            5847.0\n",
       "31        New York           2020-04-17    Blue          230597.0\n",
       "32  North Carolina           2020-06-26     Red           59158.0\n",
       "33    North Dakota                  NaT     Red           10229.0\n",
       "34            Ohio           2020-07-23     Red           80186.0\n",
       "35        Oklahoma                  NaT     Red           54172.0\n",
       "36          Oregon           2020-07-01    Blue            8931.0\n",
       "37    Pennsylvania           2020-04-19     Red           32902.0\n",
       "38    Rhode Island           2020-05-08    Blue           10779.0\n",
       "39  South Carolina                  NaT     Red          113488.0\n",
       "40    South Dakota                  NaT     Red           11505.0\n",
       "41       Tennessee                  NaT     Red          145417.0\n",
       "42           Texas           2020-07-03     Red          185591.0\n",
       "43            Utah                  NaT     Red           49767.0\n",
       "44         Vermont           2020-08-01    Blue            1421.0\n",
       "45        Virginia           2020-05-29    Blue           42533.0\n",
       "46      Washington           2020-06-26    Blue           30855.0\n",
       "47   West Virginia           2020-07-06     Red            3442.0\n",
       "48       Wisconsin           2020-08-01     Red           54002.0\n",
       "49         Wyoming                  NaT     Red            3632.0"
      ]
     },
     "execution_count": 23,
     "metadata": {},
     "output_type": "execute_result"
    }
   ],
   "source": [
    "state_info"
   ]
  },
  {
   "cell_type": "code",
   "execution_count": 24,
   "metadata": {},
   "outputs": [
    {
     "data": {
      "image/png": "[encoded data removed]",
      "text/plain": [
       "<Figure size 1080x1800 with 1 Axes>"
      ]
     },
     "metadata": {
      "needs_background": "light"
     },
     "output_type": "display_data"
    }
   ],
   "source": [
    "df = state_info.sort_values(by=['Must wear mask since'], ascending=False, na_position=\"first\")\n",
    "\n",
    "plt.figure(figsize=(15,25))\n",
    "plt.barh(df[\"State\"], df[\"Confirmed before\"], color=df[\"Politic\"])\n",
    "plt.xlabel(\"No. of infected before you 'Must wear a mask'\")\n",
    "\n",
    "i = 0\n",
    "for x in df.index:\n",
    "    value = df[\"Confirmed before\"][x]\n",
    "    text = df[\"Must wear mask since\"][x]\n",
    "    if not pd.isnull(text):\n",
    "        text = text.strftime(\"%d-%m-%y\")\n",
    "    plt.text(value+1000, i, text, color='black')\n",
    "    i+= 1\n",
    "\n",
    "plt.show()"
   ]
  },
  {
   "cell_type": "markdown",
   "metadata": {},
   "source": [
    "Ta thấy toàn bộ các bang Democratic đã có luật ban hành bắt buộc đeo khẩu trang khá sớm trong giai đoạn bùng phát dịch và khi có số lượng nhiễm ít. \n",
    "\n",
    "Còn ở các bang Republican, nhiều bang không bắt buộc đeo khẩu trang, đặc biệt ở một số nơi có số ca nhiễm cao như Florida, Georgia, Arizona\n",
    "\n",
    "Nếu như một việc đơn giản như phải đeo khẩu trang còn có chính sách khác biệt đến vậy, những vấn đề quan trọng hơn sẽ ra sao?"
   ]
  },
  {
   "cell_type": "markdown",
   "metadata": {},
   "source": [
    "# V. Nhìn lại quá trình làm đồ án"
   ]
  },
  {
   "cell_type": "markdown",
   "metadata": {},
   "source": [
    "## Thuận lợi:"
   ]
  },
  {
   "cell_type": "markdown",
   "metadata": {},
   "source": [
    " - Nhờ sự quan tâm cao đến covid-19 mà chủ đề chính và data quan trọng có thể dễ dàng tìm kiếm\n",
    " \n",
    " - Giả thuyết ban đầu khá mơ hồ nhưng dữ liệu thực sự ủng hộ"
   ]
  },
  {
   "cell_type": "markdown",
   "metadata": {},
   "source": [
    "## Khó khăn:"
   ]
  },
  {
   "cell_type": "markdown",
   "metadata": {},
   "source": [
    " - Thời gian làm đồ án có quá nhiều đồ án khác (4) chồng lên nhau.\n",
    " \n",
    " - Dữ liệu về sự khác biệt chính sách giữa các đảng đối lập Mỹ khó tìm (có các thông tin nhưng không thể thể hiện cụ thể các thông tin đó ra dữ liệu)"
   ]
  },
  {
   "cell_type": "markdown",
   "metadata": {},
   "source": [
    "## Có thời gian thêm thì sẽ làm gì:"
   ]
  },
  {
   "cell_type": "markdown",
   "metadata": {},
   "source": [
    " - Tìm thêm dữ liệu cho câu 3, thể hiện rõ hơn và tăng tính thuyết phục của giả thuyết"
   ]
  },
  {
   "cell_type": "markdown",
   "metadata": {},
   "source": [
    "# VI. Tài liệu tham khảo"
   ]
  },
  {
   "cell_type": "markdown",
   "metadata": {},
   "source": [
    "https://www.kaggle.com/sudalairajkumar/novel-corona-virus-2019-dataset\n",
    "\n",
    "https://en.wikipedia.org/wiki/2016_United_States_presidential_election\n",
    "\n",
    "https://edition.cnn.com/2020/06/19/us/states-face-mask-coronavirus-trnd/index.html\n",
    "\n",
    "Đa phần khi bí: https://pandas.pydata.org/ và https://stackoverflow.com/"
   ]
  }
 ],
 "metadata": {
  "kernelspec": {
   "display_name": "Python 3",
   "language": "python",
   "name": "python3"
  },
  "language_info": {
   "codemirror_mode": {
    "name": "ipython",
    "version": 3
   },
   "file_extension": ".py",
   "mimetype": "text/x-python",
   "name": "python",
   "nbconvert_exporter": "python",
   "pygments_lexer": "ipython3",
   "version": "3.7.4"
  }
 },
 "nbformat": 4,
 "nbformat_minor": 2
}
