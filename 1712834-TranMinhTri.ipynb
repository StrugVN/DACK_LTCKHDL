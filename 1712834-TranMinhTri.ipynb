{
 "cells": [
  {
   "cell_type": "markdown",
   "metadata": {},
   "source": [
    "Lớp **Lập trình cho Khoa học dữ liệu - 17_21**  \n",
    "Học kì II, 2019 - 2020  "
   ]
  },
  {
   "cell_type": "markdown",
   "metadata": {},
   "source": [
    "<hr>\n",
    "<br>\n",
    "<center><b><font size=\"10\">ĐỒ ÁN CUỐI KÌ</font></b></center>\n",
    "<br>\n",
    "<center>\n",
    "    <font size=\"4\"><b>Sinh viên thực hiện:</b></font>\n",
    "    <br> Trần Minh Trí - 1712834<br>\n",
    "</center>\n",
    "<hr>"
   ]
  },
  {
   "cell_type": "markdown",
   "metadata": {},
   "source": [
    "# I. Chủ đề quan tâm"
   ]
  },
  {
   "cell_type": "markdown",
   "metadata": {},
   "source": [
    "<font size=\"4.5\">  Tại sao Mỹ, một đất nước phát triển với nền tảng khoa học và cơ sở hạ tầng y tế tiên tiến hàng đầu thế giới lại đứng top 1 về số ca nhiễm và tử vong bởi **covid 19**? </font>"
   ]
  },
  {
   "cell_type": "markdown",
   "metadata": {},
   "source": [
    "## 1. Một số thông tin về tình hình ở Mỹ trước khi dịch bùng phát "
   ]
  },
  {
   "cell_type": "markdown",
   "metadata": {},
   "source": [
    "Ca nhiễm covid 19 đầu tiên được phát hiện vào ngày **21/1**\n",
    "\n",
    "Tổng thống Donald Trump ban bố tình trạng khẩn cấp quốc gia về covid 19 vào ngày **13/3**."
   ]
  },
  {
   "cell_type": "markdown",
   "metadata": {},
   "source": [
    "Theo [The Washington Post](https://www.washingtonpost.com/national-security/2020/04/04/coronavirus-government-dysfunction/?arc404=true): \n",
    "- Các thông tin cơ bản về virus corona không được thông báo đến Trump bởi các quan chức y tế cho đến 18/1. Cùng lúc đó, Trump đang đấu tranh trước các cáo buộc cưỡng chế chính trị đối với Ukraine. \n",
    "\n",
    "- Alex Azar, U.S. Serectary of Health and Human Services, kiềm chế không gây áp lực với tổng thống và thay vào đó, ông bảo Trump rằng \"tình hình hiện tại đang được giám sát và đánh giá\""
   ]
  },
  {
   "cell_type": "markdown",
   "metadata": {},
   "source": [
    "Theo [The New York Times](https://www.nytimes.com/2020/04/11/us/politics/coronavirus-trump-response.html): \n",
    " - Những phản ứng với virus corona của Trump trong khoảng thời gian bị cáo buộc đã bị làm mờ bởi những nghi ngờ và khinh bỉ. Đối với ông, nhiều chuyên gia và quan chức có năng lực thuộc phe đối lập. \n",
    " - Ông còn gọi dịch bệnh này là một \"trò bịp\" của phe Dân Chủ. Speaker of the House Nancy Pelosi ngược lại gọi phản hồi của chính quyền Trump trước cuộc khủng hoảng là mờ mịt và hỗn loạn"
   ]
  },
  {
   "cell_type": "markdown",
   "metadata": {},
   "source": [
    "## 2. Các câu hỏi cần trả lời:"
   ]
  },
  {
   "cell_type": "markdown",
   "metadata": {},
   "source": [
    " 1. Sự bùng phát dịch bệnh ở Mỹ xảy ra như thế nào? (Mức độ nhiễm qua từng tháng)\n",
    " 2. Liệu mâu thuẫn chính trị giữa các đảng phái ở Mỹ có ảnh hưởng đến sự bùng phát dịch bệnh?\n",
    " 3. Đưa ra dẫn chứng về sự khác biệt chính sách giữa các đảng phái ở Mỹ có liên quan đến sự lây lan của dịch bệnh"
   ]
  },
  {
   "cell_type": "markdown",
   "metadata": {},
   "source": [
    "# II. Thu thập dữ liệu"
   ]
  },
  {
   "cell_type": "markdown",
   "metadata": {},
   "source": [
    "Để có một bộ dữ liệu liên quan đến covid 19, ta tìm trên kaggle và tìm được [bộ dữ liệu sau](https://www.kaggle.com/sudalairajkumar/novel-corona-virus-2019-dataset) (file \"covid_19_data.csv\")"
   ]
  },
  {
   "cell_type": "markdown",
   "metadata": {},
   "source": [
    "Ta thu thập thêm dữ liệu về các bang chịu ảnh hưởng lớn về chính trị 2 đảng phái lớn ở Mỹ và thu thập chính sách về việc \"Bắt buộc đeo khẩu trang khi ra nơi công cộng\" của các bang để xét xem có sự khác biệt. \n",
    "\n",
    "Dữ liệu thu được: [Chính kiến các bang](https://en.wikipedia.org/wiki/2016_United_States_presidential_election) và [Ngày bắt đầu luật bắt buộc đeo khẩu trang các bang](https://edition.cnn.com/2020/06/19/us/states-face-mask-coronavirus-trnd/index.html)\n",
    "\n",
    "Ta ghi chép dữ liệu này vào file \"US_Additional_Info.csv\""
   ]
  },
  {
   "cell_type": "markdown",
   "metadata": {},
   "source": [
    "# III. Khám phá dữ liệu"
   ]
  },
  {
   "cell_type": "code",
   "execution_count": 1,
   "metadata": {},
   "outputs": [],
   "source": [
    "%matplotlib inline\n",
    "import matplotlib.pyplot as plt\n",
    "import pandas as pd\n",
    "import numpy as np"
   ]
  },
  {
   "cell_type": "code",
   "execution_count": 2,
   "metadata": {},
   "outputs": [],
   "source": [
    "covid_info = pd.read_csv(\"covid_19_data.csv\", index_col=\"SNo\")\n",
    "state_info = pd.read_csv(\"US_Additional_Info.csv\")"
   ]
  },
  {
   "cell_type": "code",
   "execution_count": 3,
   "metadata": {},
   "outputs": [
    {
     "data": {
      "text/html": [
       "<div>\n",
       "<style scoped>\n",
       "    .dataframe tbody tr th:only-of-type {\n",
       "        vertical-align: middle;\n",
       "    }\n",
       "\n",
       "    .dataframe tbody tr th {\n",
       "        vertical-align: top;\n",
       "    }\n",
       "\n",
       "    .dataframe thead th {\n",
       "        text-align: right;\n",
       "    }\n",
       "</style>\n",
       "<table border=\"1\" class=\"dataframe\">\n",
       "  <thead>\n",
       "    <tr style=\"text-align: right;\">\n",
       "      <th></th>\n",
       "      <th>ObservationDate</th>\n",
       "      <th>Province/State</th>\n",
       "      <th>Country/Region</th>\n",
       "      <th>Last Update</th>\n",
       "      <th>Confirmed</th>\n",
       "      <th>Deaths</th>\n",
       "      <th>Recovered</th>\n",
       "    </tr>\n",
       "    <tr>\n",
       "      <th>SNo</th>\n",
       "      <th></th>\n",
       "      <th></th>\n",
       "      <th></th>\n",
       "      <th></th>\n",
       "      <th></th>\n",
       "      <th></th>\n",
       "      <th></th>\n",
       "    </tr>\n",
       "  </thead>\n",
       "  <tbody>\n",
       "    <tr>\n",
       "      <th>1</th>\n",
       "      <td>01/22/2020</td>\n",
       "      <td>Anhui</td>\n",
       "      <td>Mainland China</td>\n",
       "      <td>1/22/2020 17:00</td>\n",
       "      <td>1.0</td>\n",
       "      <td>0.0</td>\n",
       "      <td>0.0</td>\n",
       "    </tr>\n",
       "    <tr>\n",
       "      <th>2</th>\n",
       "      <td>01/22/2020</td>\n",
       "      <td>Beijing</td>\n",
       "      <td>Mainland China</td>\n",
       "      <td>1/22/2020 17:00</td>\n",
       "      <td>14.0</td>\n",
       "      <td>0.0</td>\n",
       "      <td>0.0</td>\n",
       "    </tr>\n",
       "    <tr>\n",
       "      <th>3</th>\n",
       "      <td>01/22/2020</td>\n",
       "      <td>Chongqing</td>\n",
       "      <td>Mainland China</td>\n",
       "      <td>1/22/2020 17:00</td>\n",
       "      <td>6.0</td>\n",
       "      <td>0.0</td>\n",
       "      <td>0.0</td>\n",
       "    </tr>\n",
       "    <tr>\n",
       "      <th>4</th>\n",
       "      <td>01/22/2020</td>\n",
       "      <td>Fujian</td>\n",
       "      <td>Mainland China</td>\n",
       "      <td>1/22/2020 17:00</td>\n",
       "      <td>1.0</td>\n",
       "      <td>0.0</td>\n",
       "      <td>0.0</td>\n",
       "    </tr>\n",
       "    <tr>\n",
       "      <th>5</th>\n",
       "      <td>01/22/2020</td>\n",
       "      <td>Gansu</td>\n",
       "      <td>Mainland China</td>\n",
       "      <td>1/22/2020 17:00</td>\n",
       "      <td>0.0</td>\n",
       "      <td>0.0</td>\n",
       "      <td>0.0</td>\n",
       "    </tr>\n",
       "  </tbody>\n",
       "</table>\n",
       "</div>"
      ],
      "text/plain": [
       "    ObservationDate Province/State  Country/Region      Last Update  \\\n",
       "SNo                                                                   \n",
       "1        01/22/2020          Anhui  Mainland China  1/22/2020 17:00   \n",
       "2        01/22/2020        Beijing  Mainland China  1/22/2020 17:00   \n",
       "3        01/22/2020      Chongqing  Mainland China  1/22/2020 17:00   \n",
       "4        01/22/2020         Fujian  Mainland China  1/22/2020 17:00   \n",
       "5        01/22/2020          Gansu  Mainland China  1/22/2020 17:00   \n",
       "\n",
       "     Confirmed  Deaths  Recovered  \n",
       "SNo                                \n",
       "1          1.0     0.0        0.0  \n",
       "2         14.0     0.0        0.0  \n",
       "3          6.0     0.0        0.0  \n",
       "4          1.0     0.0        0.0  \n",
       "5          0.0     0.0        0.0  "
      ]
     },
     "execution_count": 3,
     "metadata": {},
     "output_type": "execute_result"
    }
   ],
   "source": [
    "covid_info.head()"
   ]
  },
  {
   "cell_type": "code",
   "execution_count": 4,
   "metadata": {},
   "outputs": [
    {
     "data": {
      "text/html": [
       "<div>\n",
       "<style scoped>\n",
       "    .dataframe tbody tr th:only-of-type {\n",
       "        vertical-align: middle;\n",
       "    }\n",
       "\n",
       "    .dataframe tbody tr th {\n",
       "        vertical-align: top;\n",
       "    }\n",
       "\n",
       "    .dataframe thead th {\n",
       "        text-align: right;\n",
       "    }\n",
       "</style>\n",
       "<table border=\"1\" class=\"dataframe\">\n",
       "  <thead>\n",
       "    <tr style=\"text-align: right;\">\n",
       "      <th></th>\n",
       "      <th>State</th>\n",
       "      <th>Must wear mask since</th>\n",
       "      <th>Politic</th>\n",
       "    </tr>\n",
       "  </thead>\n",
       "  <tbody>\n",
       "    <tr>\n",
       "      <th>0</th>\n",
       "      <td>Alabama</td>\n",
       "      <td>15-07-20</td>\n",
       "      <td>Red</td>\n",
       "    </tr>\n",
       "    <tr>\n",
       "      <th>1</th>\n",
       "      <td>Alaska</td>\n",
       "      <td>NaN</td>\n",
       "      <td>Red</td>\n",
       "    </tr>\n",
       "    <tr>\n",
       "      <th>2</th>\n",
       "      <td>Arizona</td>\n",
       "      <td>NaN</td>\n",
       "      <td>Red</td>\n",
       "    </tr>\n",
       "    <tr>\n",
       "      <th>3</th>\n",
       "      <td>Arkansas</td>\n",
       "      <td>20-07-20</td>\n",
       "      <td>Red</td>\n",
       "    </tr>\n",
       "    <tr>\n",
       "      <th>4</th>\n",
       "      <td>California</td>\n",
       "      <td>18-06-20</td>\n",
       "      <td>Blue</td>\n",
       "    </tr>\n",
       "  </tbody>\n",
       "</table>\n",
       "</div>"
      ],
      "text/plain": [
       "        State Must wear mask since Politic\n",
       "0     Alabama             15-07-20     Red\n",
       "1      Alaska                  NaN     Red\n",
       "2     Arizona                  NaN     Red\n",
       "3    Arkansas             20-07-20     Red\n",
       "4  California             18-06-20    Blue"
      ]
     },
     "execution_count": 4,
     "metadata": {},
     "output_type": "execute_result"
    }
   ],
   "source": [
    "state_info.head()"
   ]
  },
  {
   "cell_type": "markdown",
   "metadata": {},
   "source": [
    "Ở **covid_info**, ta có cột dữ liệu sau:\n",
    " - `ObservationDate`: Ngày mà dữ liệu lưu lại\n",
    " - `Province/State`: Tỉnh, khu vực, bang\n",
    " - `Country/Region`: Nước/vùng lãnh thổ\n",
    " - `Last Update`: Lần update cuối cùng trong ngày ObservationDate\n",
    " - `Confirmed`: Số ca nhiễm\n",
    " - `Deaths`: Số ca tử vong\n",
    " - `Recovered`: Số ca hồi phục"
   ]
  },
  {
   "cell_type": "markdown",
   "metadata": {},
   "source": [
    "Ở **state_info**, ta có cột dữ liệu:\n",
    " - `State`: Tên bang ở Mỹ\n",
    " - `Must wear mask since`: Ngày luật bắt buộc đeo khẩu trang có hiệu lực\n",
    " - `Politic`: Đảng có ảnh hưởng lớn hơn ở bang này (Red = Republican, Blue = Democratic)"
   ]
  },
  {
   "cell_type": "markdown",
   "metadata": {},
   "source": [
    "Ở **covid_info** ta chỉ quan tâm nước Mỹ, nên ta lọc **Country/Region\t== US** và đồng thời bỏ cột Country/Region\n",
    "\n",
    "Ta bỏ qua cột **Last Update**, chỉ chú trọng cột **ObservationDate**"
   ]
  },
  {
   "cell_type": "code",
   "execution_count": 5,
   "metadata": {},
   "outputs": [
    {
     "data": {
      "text/html": [
       "<div>\n",
       "<style scoped>\n",
       "    .dataframe tbody tr th:only-of-type {\n",
       "        vertical-align: middle;\n",
       "    }\n",
       "\n",
       "    .dataframe tbody tr th {\n",
       "        vertical-align: top;\n",
       "    }\n",
       "\n",
       "    .dataframe thead th {\n",
       "        text-align: right;\n",
       "    }\n",
       "</style>\n",
       "<table border=\"1\" class=\"dataframe\">\n",
       "  <thead>\n",
       "    <tr style=\"text-align: right;\">\n",
       "      <th></th>\n",
       "      <th>ObservationDate</th>\n",
       "      <th>Province/State</th>\n",
       "      <th>Confirmed</th>\n",
       "      <th>Deaths</th>\n",
       "      <th>Recovered</th>\n",
       "    </tr>\n",
       "    <tr>\n",
       "      <th>SNo</th>\n",
       "      <th></th>\n",
       "      <th></th>\n",
       "      <th></th>\n",
       "      <th></th>\n",
       "      <th></th>\n",
       "    </tr>\n",
       "  </thead>\n",
       "  <tbody>\n",
       "    <tr>\n",
       "      <th>32</th>\n",
       "      <td>01/22/2020</td>\n",
       "      <td>Washington</td>\n",
       "      <td>1.0</td>\n",
       "      <td>0.0</td>\n",
       "      <td>0.0</td>\n",
       "    </tr>\n",
       "    <tr>\n",
       "      <th>70</th>\n",
       "      <td>01/23/2020</td>\n",
       "      <td>Washington</td>\n",
       "      <td>1.0</td>\n",
       "      <td>0.0</td>\n",
       "      <td>0.0</td>\n",
       "    </tr>\n",
       "    <tr>\n",
       "      <th>118</th>\n",
       "      <td>01/24/2020</td>\n",
       "      <td>Washington</td>\n",
       "      <td>1.0</td>\n",
       "      <td>0.0</td>\n",
       "      <td>0.0</td>\n",
       "    </tr>\n",
       "    <tr>\n",
       "      <th>119</th>\n",
       "      <td>01/24/2020</td>\n",
       "      <td>Chicago</td>\n",
       "      <td>1.0</td>\n",
       "      <td>0.0</td>\n",
       "      <td>0.0</td>\n",
       "    </tr>\n",
       "    <tr>\n",
       "      <th>159</th>\n",
       "      <td>01/25/2020</td>\n",
       "      <td>Washington</td>\n",
       "      <td>1.0</td>\n",
       "      <td>0.0</td>\n",
       "      <td>0.0</td>\n",
       "    </tr>\n",
       "  </tbody>\n",
       "</table>\n",
       "</div>"
      ],
      "text/plain": [
       "    ObservationDate Province/State  Confirmed  Deaths  Recovered\n",
       "SNo                                                             \n",
       "32       01/22/2020     Washington        1.0     0.0        0.0\n",
       "70       01/23/2020     Washington        1.0     0.0        0.0\n",
       "118      01/24/2020     Washington        1.0     0.0        0.0\n",
       "119      01/24/2020        Chicago        1.0     0.0        0.0\n",
       "159      01/25/2020     Washington        1.0     0.0        0.0"
      ]
     },
     "execution_count": 5,
     "metadata": {},
     "output_type": "execute_result"
    }
   ],
   "source": [
    "covid_info = covid_info[covid_info[\"Country/Region\"] == \"US\"].drop([\"Last Update\", \"Country/Region\"], axis=1)\n",
    "covid_info.head()"
   ]
  },
  {
   "cell_type": "code",
   "execution_count": 6,
   "metadata": {},
   "outputs": [
    {
     "data": {
      "text/plain": [
       "ObservationDate     object\n",
       "Province/State      object\n",
       "Confirmed          float64\n",
       "Deaths             float64\n",
       "Recovered          float64\n",
       "dtype: object"
      ]
     },
     "execution_count": 6,
     "metadata": {},
     "output_type": "execute_result"
    }
   ],
   "source": [
    "covid_info.dtypes"
   ]
  },
  {
   "cell_type": "markdown",
   "metadata": {},
   "source": [
    "Cần convert **ObservationDate** sang DateTime"
   ]
  },
  {
   "cell_type": "code",
   "execution_count": 7,
   "metadata": {},
   "outputs": [],
   "source": [
    "covid_info[\"ObservationDate\"] = pd.to_datetime(covid_info[\"ObservationDate\"], format=\"%m/%d/%Y\")"
   ]
  },
  {
   "cell_type": "code",
   "execution_count": 8,
   "metadata": {},
   "outputs": [
    {
     "data": {
      "text/plain": [
       "ObservationDate    datetime64[ns]\n",
       "Province/State             object\n",
       "Confirmed                 float64\n",
       "Deaths                    float64\n",
       "Recovered                 float64\n",
       "dtype: object"
      ]
     },
     "execution_count": 8,
     "metadata": {},
     "output_type": "execute_result"
    }
   ],
   "source": [
    "covid_info.dtypes"
   ]
  },
  {
   "cell_type": "code",
   "execution_count": 36,
   "metadata": {},
   "outputs": [
    {
     "data": {
      "text/plain": [
       "State                   object\n",
       "Must wear mask since    object\n",
       "Politic                 object\n",
       "dtype: object"
      ]
     },
     "execution_count": 36,
     "metadata": {},
     "output_type": "execute_result"
    }
   ],
   "source": [
    "state_info.dtypes"
   ]
  },
  {
   "cell_type": "code",
   "execution_count": null,
   "metadata": {},
   "outputs": [],
   "source": []
  },
  {
   "cell_type": "markdown",
   "metadata": {},
   "source": [
    "# IV. Sử dụng dữ liệu để trả lời các câu hỏi"
   ]
  },
  {
   "cell_type": "markdown",
   "metadata": {},
   "source": [
    "## 1. Sự bùng phát dịch bệnh ở Mỹ xảy ra như thế nào? (Mức độ nhiễm qua từng tháng)"
   ]
  },
  {
   "cell_type": "code",
   "execution_count": 12,
   "metadata": {},
   "outputs": [],
   "source": [
    "info_per_date = covid_info.groupby(\"ObservationDate\").sum()"
   ]
  },
  {
   "cell_type": "code",
   "execution_count": 11,
   "metadata": {
    "scrolled": true
   },
   "outputs": [
    {
     "data": {
      "text/plain": [
       "Text(0, 0.5, 'Infected (million)')"
      ]
     },
     "execution_count": 11,
     "metadata": {},
     "output_type": "execute_result"
    },
    {
     "data": {
      "image/png": "[encoded data removed]",
      "text/plain": [
       "<Figure size 1296x1008 with 1 Axes>"
      ]
     },
     "metadata": {
      "needs_background": "light"
     },
     "output_type": "display_data"
    }
   ],
   "source": [
    "plt.figure(figsize=(18,14))\n",
    "plt.plot(info_per_date[\"Confirmed\"])\n",
    "\n",
    "ax = plt.gca()\n",
    "i = len(info_per_date[\"Confirmed\"].index) - 1\n",
    "tick = []\n",
    "while i>=0:\n",
    "    tick.append(info_per_date[\"Confirmed\"].index[i])\n",
    "    i-=30\n",
    "ax.axes.xaxis.set_ticks(tick)\n",
    "\n",
    "plt.xlabel(\"Date\")\n",
    "plt.ylabel(\"Infected (million)\")"
   ]
  },
  {
   "cell_type": "code",
   "execution_count": 26,
   "metadata": {
    "scrolled": true
   },
   "outputs": [
    {
     "data": {
      "text/plain": [
       "Text(0, 0.5, 'Infected (million)')"
      ]
     },
     "execution_count": 26,
     "metadata": {},
     "output_type": "execute_result"
    },
    {
     "data": {
      "image/png": "[encoded data removed]",
      "text/plain": [
       "<Figure size 1296x1008 with 1 Axes>"
      ]
     },
     "metadata": {
      "needs_background": "light"
     },
     "output_type": "display_data"
    }
   ],
   "source": [
    "df = info_per_date[info_per_date.index >= \"2020-03-11\"]\n",
    "df = df[df.index <= \"2020-04-1\"]\n",
    "plt.figure(figsize=(18,14))\n",
    "plt.plot(df[\"Confirmed\"])\n",
    "plt.xlabel(\"Date\")\n",
    "plt.ylabel(\"Infected (million)\")"
   ]
  },
  {
   "cell_type": "markdown",
   "metadata": {},
   "source": [
    "Ta thấy được số ca nhiễm dường như tăng đột biết vào khoảng giữa tháng 3, ngay sau khi tình trạng khẩn cấp quốc gia được ban bố nhưng cách ngày phát hiện ca nhiễm đầu tiên đến 2 tháng"
   ]
  },
  {
   "cell_type": "markdown",
   "metadata": {},
   "source": [
    "Liệu trước đó đã có nhiều người nhiễm nhưng không phát hiện cho tới sau khi tình trạng khẩn cấp quốc gia?"
   ]
  },
  {
   "cell_type": "markdown",
   "metadata": {},
   "source": [
    "## 2. Liệu mâu thuẫn chính trị giữa các đảng phái ở Mỹ có ảnh hưởng đến sự bùng phát dịch bệnh?"
   ]
  },
  {
   "cell_type": "markdown",
   "metadata": {},
   "source": [
    "Để trả lời câu hỏi này, ta tìm hiểu mức độ lây nhiễm giữa các bang chịu ảnh hưởng chính trị bởi 2 đảng phái đối lập"
   ]
  },
  {
   "cell_type": "code",
   "execution_count": 33,
   "metadata": {},
   "outputs": [
    {
     "data": {
      "text/plain": [
       "array(['Alabama', 'Alaska', 'Arizona', 'Arkansas', 'Colorado', 'Florida',\n",
       "       'Georgia', 'Idaho', 'Indiana', 'Iowa', 'Kansas', 'Kentucky',\n",
       "       'Louisiana', 'Michigan', 'Mississippi', 'Missouri', 'Montana',\n",
       "       'Nebraska', 'North Carolina', 'North Dakota', 'Ohio', 'Oklahoma',\n",
       "       'Pennsylvania', 'South Carolina', 'South Dakota', 'Tennessee',\n",
       "       'Texas', 'Utah', 'West Virginia', 'Wisconsin', 'Wyoming'],\n",
       "      dtype=object)"
      ]
     },
     "execution_count": 33,
     "metadata": {},
     "output_type": "execute_result"
    }
   ],
   "source": [
    "red_state = state_info[state_info[\"Politic\"] == \"Red\"][\"State\"].to_numpy()\n",
    "red_state"
   ]
  },
  {
   "cell_type": "code",
   "execution_count": 34,
   "metadata": {},
   "outputs": [
    {
     "data": {
      "text/plain": [
       "array(['California', 'Connecticut', 'Delaware', 'Hawaii', 'Illinois',\n",
       "       'Maine', 'Maryland', 'Massachusetts', 'Minnesota', 'Nevada',\n",
       "       'New Hampshire', 'New Jersey', 'New Mexico', 'New York', 'Oregon',\n",
       "       'Rhode Island', 'Vermont', 'Virginia', 'Washington'], dtype=object)"
      ]
     },
     "execution_count": 34,
     "metadata": {},
     "output_type": "execute_result"
    }
   ],
   "source": [
    "blue_state = state_info[state_info[\"Politic\"] == \"Blue\"][\"State\"].to_numpy()\n",
    "blue_state"
   ]
  },
  {
   "cell_type": "code",
   "execution_count": null,
   "metadata": {},
   "outputs": [],
   "source": []
  }
 ],
 "metadata": {
  "kernelspec": {
   "display_name": "Python 3",
   "language": "python",
   "name": "python3"
  },
  "language_info": {
   "codemirror_mode": {
    "name": "ipython",
    "version": 3
   },
   "file_extension": ".py",
   "mimetype": "text/x-python",
   "name": "python",
   "nbconvert_exporter": "python",
   "pygments_lexer": "ipython3",
   "version": "3.7.4"
  }
 },
 "nbformat": 4,
 "nbformat_minor": 2
}
